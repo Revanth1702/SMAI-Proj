{
  "cells": [
    {
      "cell_type": "markdown",
      "metadata": {
        "id": "ZZ0hFdV_Atbp"
      },
      "source": [
        "### Data Extraction from XML"
      ]
    },
    {
      "cell_type": "code",
      "execution_count": 2,
      "metadata": {
        "id": "HPeM8r-ur8td"
      },
      "outputs": [],
      "source": [
        "import xml.etree.ElementTree as ET\n",
        "import numpy as np\n",
        "import pandas as pd\n",
        "tree = ET.parse('train_data.xml')\n",
        "reviews = tree.getroot()\n",
        "\n",
        "\n"
      ]
    },
    {
      "cell_type": "code",
      "execution_count": 3,
      "metadata": {
        "colab": {
          "base_uri": "https://localhost:8080/"
        },
        "id": "jqjwnstziveb",
        "outputId": "b6f7d459-019f-4a96-c053-78e82117b154"
      },
      "outputs": [],
      "source": [
        "\n",
        "Sentence_array=list()\n",
        "asp_array=list()\n",
        "ref_revarray=list()\n",
        "effect_array=list()\n",
        "revindex=list()\n",
        "i=0\n",
        "j=0\n",
        "prev=0\n",
        "num_sent=0\n",
        "\n",
        "polar = {\n",
        "    \"negative\": 0.0,\n",
        "    \"neutral\":0.5,\n",
        "    \"positive\":1.0\n",
        "}"
      ]
    },
    {
      "cell_type": "code",
      "execution_count": 4,
      "metadata": {},
      "outputs": [
        {
          "name": "stdout",
          "output_type": "stream",
          "text": [
            "Total number of sentences are 2508\n",
            "Maximim number of sentences in a review is 44\n",
            "2001\n",
            "2508\n",
            "2508\n",
            "2508\n",
            "2508\n"
          ]
        }
      ],
      "source": [
        "for review in reviews:\n",
        "\n",
        "    if(i==299):\n",
        "        ref_revarray.append(i)\n",
        "        num_sent+=1\n",
        "        effect_array.append(0.0)\n",
        "        asp_array.append('FOOD#QUALITY')\n",
        "        Sentence_array.append(\"Food is very bad\")\n",
        "\n",
        "    sentences = review.find(\"./sentences\")\n",
        "    for sentence in sentences :\n",
        "        num_sent=num_sent+1\n",
        "        text = sentence.find(\"./text\")\n",
        "        opinions = sentence.findall(\"./Opinions/Opinion\")\n",
        "        for opinion in opinions :\n",
        "            if(prev == i):\n",
        "                j=j+1\n",
        "            else:\n",
        "                revindex.append(j)\n",
        "                j=1\n",
        "                prev=i\n",
        "\n",
        "            effect_array.append(polar[opinion.attrib['polarity']])\n",
        "            Sentence_array.append(text.text)\n",
        "            asp_array.append(opinion.attrib['category'])\n",
        "            ref_revarray.append(i)\n",
        "\n",
        "    i=i+1\n",
        "\n",
        "revindex=np.array(revindex)\n",
        "pol_arr=np.array(effect_array)\n",
        "\n",
        "maxi=np.max(revindex)\n",
        "\n",
        "print(\"Total number of sentences are \" + str(len(Sentence_array)))\n",
        "print(\"Maximim number of sentences in a review is \" + str(maxi))\n",
        "\n",
        "\n",
        "\n",
        "print(num_sent)  \n",
        "print(len(Sentence_array))\n",
        "print(len(asp_array))\n",
        "print(len(ref_revarray))\n",
        "print(len(effect_array))\n",
        "\n",
        "\n"
      ]
    },
    {
      "cell_type": "code",
      "execution_count": null,
      "metadata": {
        "id": "wPrJNHncQq_8"
      },
      "outputs": [],
      "source": []
    },
    {
      "cell_type": "markdown",
      "metadata": {
        "id": "eYssNy0n4nsS"
      },
      "source": [
        "Till now we have extracted Info from XML, From now on let us create a dataframe out of them right now"
      ]
    },
    {
      "cell_type": "markdown",
      "metadata": {
        "id": "S9x3FzPaA1lY"
      },
      "source": [
        "### introducing pandas"
      ]
    },
    {
      "cell_type": "code",
      "execution_count": 5,
      "metadata": {
        "colab": {
          "base_uri": "https://localhost:8080/",
          "height": 1000
        },
        "id": "WC-IDGHpu-uO",
        "outputId": "a0661b61-0176-4f5a-c82b-6ff4a1357451"
      },
      "outputs": [
        {
          "data": {
            "text/html": [
              "<div>\n",
              "<style scoped>\n",
              "    .dataframe tbody tr th:only-of-type {\n",
              "        vertical-align: middle;\n",
              "    }\n",
              "\n",
              "    .dataframe tbody tr th {\n",
              "        vertical-align: top;\n",
              "    }\n",
              "\n",
              "    .dataframe thead th {\n",
              "        text-align: right;\n",
              "    }\n",
              "</style>\n",
              "<table border=\"1\" class=\"dataframe\">\n",
              "  <thead>\n",
              "    <tr style=\"text-align: right;\">\n",
              "      <th></th>\n",
              "      <th>rid</th>\n",
              "      <th>aspect</th>\n",
              "      <th>text</th>\n",
              "      <th>polarity</th>\n",
              "    </tr>\n",
              "  </thead>\n",
              "  <tbody>\n",
              "    <tr>\n",
              "      <th>0</th>\n",
              "      <td>0</td>\n",
              "      <td>RESTAURANT#GENERAL</td>\n",
              "      <td>Judging from previous posts this used to be a ...</td>\n",
              "      <td>0.0</td>\n",
              "    </tr>\n",
              "    <tr>\n",
              "      <th>1</th>\n",
              "      <td>0</td>\n",
              "      <td>SERVICE#GENERAL</td>\n",
              "      <td>We, there were four of us, arrived at noon - t...</td>\n",
              "      <td>0.0</td>\n",
              "    </tr>\n",
              "    <tr>\n",
              "      <th>2</th>\n",
              "      <td>0</td>\n",
              "      <td>SERVICE#GENERAL</td>\n",
              "      <td>They never brought us complimentary noodles, i...</td>\n",
              "      <td>0.0</td>\n",
              "    </tr>\n",
              "    <tr>\n",
              "      <th>3</th>\n",
              "      <td>0</td>\n",
              "      <td>FOOD#QUALITY</td>\n",
              "      <td>The food was lousy - too sweet or too salty an...</td>\n",
              "      <td>0.0</td>\n",
              "    </tr>\n",
              "    <tr>\n",
              "      <th>4</th>\n",
              "      <td>0</td>\n",
              "      <td>FOOD#STYLE_OPTIONS</td>\n",
              "      <td>The food was lousy - too sweet or too salty an...</td>\n",
              "      <td>0.0</td>\n",
              "    </tr>\n",
              "    <tr>\n",
              "      <th>...</th>\n",
              "      <td>...</td>\n",
              "      <td>...</td>\n",
              "      <td>...</td>\n",
              "      <td>...</td>\n",
              "    </tr>\n",
              "    <tr>\n",
              "      <th>145</th>\n",
              "      <td>22</td>\n",
              "      <td>AMBIENCE#GENERAL</td>\n",
              "      <td>Leon is an East Village gem: casual but hip, w...</td>\n",
              "      <td>1.0</td>\n",
              "    </tr>\n",
              "    <tr>\n",
              "      <th>146</th>\n",
              "      <td>22</td>\n",
              "      <td>FOOD#QUALITY</td>\n",
              "      <td>Leon is an East Village gem: casual but hip, w...</td>\n",
              "      <td>1.0</td>\n",
              "    </tr>\n",
              "    <tr>\n",
              "      <th>147</th>\n",
              "      <td>22</td>\n",
              "      <td>AMBIENCE#GENERAL</td>\n",
              "      <td>Leon is an East Village gem: casual but hip, w...</td>\n",
              "      <td>1.0</td>\n",
              "    </tr>\n",
              "    <tr>\n",
              "      <th>148</th>\n",
              "      <td>22</td>\n",
              "      <td>FOOD#QUALITY</td>\n",
              "      <td>Leon is an East Village gem: casual but hip, w...</td>\n",
              "      <td>1.0</td>\n",
              "    </tr>\n",
              "    <tr>\n",
              "      <th>149</th>\n",
              "      <td>22</td>\n",
              "      <td>SERVICE#GENERAL</td>\n",
              "      <td>My wife and I always enjoy the young, not alwa...</td>\n",
              "      <td>1.0</td>\n",
              "    </tr>\n",
              "  </tbody>\n",
              "</table>\n",
              "<p>150 rows × 4 columns</p>\n",
              "</div>"
            ],
            "text/plain": [
              "     rid              aspect  \\\n",
              "0      0  RESTAURANT#GENERAL   \n",
              "1      0     SERVICE#GENERAL   \n",
              "2      0     SERVICE#GENERAL   \n",
              "3      0        FOOD#QUALITY   \n",
              "4      0  FOOD#STYLE_OPTIONS   \n",
              "..   ...                 ...   \n",
              "145   22    AMBIENCE#GENERAL   \n",
              "146   22        FOOD#QUALITY   \n",
              "147   22    AMBIENCE#GENERAL   \n",
              "148   22        FOOD#QUALITY   \n",
              "149   22     SERVICE#GENERAL   \n",
              "\n",
              "                                                  text  polarity  \n",
              "0    Judging from previous posts this used to be a ...       0.0  \n",
              "1    We, there were four of us, arrived at noon - t...       0.0  \n",
              "2    They never brought us complimentary noodles, i...       0.0  \n",
              "3    The food was lousy - too sweet or too salty an...       0.0  \n",
              "4    The food was lousy - too sweet or too salty an...       0.0  \n",
              "..                                                 ...       ...  \n",
              "145  Leon is an East Village gem: casual but hip, w...       1.0  \n",
              "146  Leon is an East Village gem: casual but hip, w...       1.0  \n",
              "147  Leon is an East Village gem: casual but hip, w...       1.0  \n",
              "148  Leon is an East Village gem: casual but hip, w...       1.0  \n",
              "149  My wife and I always enjoy the young, not alwa...       1.0  \n",
              "\n",
              "[150 rows x 4 columns]"
            ]
          },
          "execution_count": 5,
          "metadata": {},
          "output_type": "execute_result"
        }
      ],
      "source": [
        "data=list()\n",
        "\n",
        "for i in range(len(Sentence_array)):\n",
        "  data.append([ref_revarray[i], asp_array[i],Sentence_array[i],effect_array[i]])\n",
        "  \n",
        "# Create the pandas DataFrame\n",
        "DATA = pd.DataFrame(data, columns = ['rid','aspect','text','polarity'])\n",
        "\n",
        "DATA[0:150]\n"
      ]
    },
    {
      "cell_type": "markdown",
      "metadata": {
        "id": "PuFeuFxV55VT"
      },
      "source": [
        "**Done, Now let us clean the text using standard methods avaliable for US:XD**"
      ]
    },
    {
      "cell_type": "markdown",
      "metadata": {
        "id": "jnu-9qgN6nK3"
      },
      "source": [
        "### Cleaning Step:  Removing Links, HTML, Emoji, Punctuation"
      ]
    },
    {
      "cell_type": "code",
      "execution_count": 6,
      "metadata": {},
      "outputs": [
        {
          "name": "stderr",
          "output_type": "stream",
          "text": [
            "[nltk_data] Downloading package stopwords to\n",
            "[nltk_data]     /home/sriramprasad/nltk_data...\n",
            "[nltk_data]   Package stopwords is already up-to-date!\n"
          ]
        }
      ],
      "source": [
        "import nltk\n",
        "\n",
        "nltk.download('stopwords')\n",
        "from nltk.corpus import stopwords\n",
        "from nltk.tokenize import word_tokenize\n",
        "\n",
        "stop_words = set(stopwords.words('english'))\n",
        "\n",
        "\n",
        "def rem_stopwords(text):\n",
        "    text1 = [w for w in text.split() if not w.lower() in stop_words]\n",
        "    return \" \".join(text1)\n",
        "\n",
        "def tokenise_data(samp_text):\n",
        "    word_tokens = [word.lower() for word in word_tokenize(samp_text)]\n",
        "    return word_tokens\n",
        "    \n",
        "\n"
      ]
    },
    {
      "cell_type": "code",
      "execution_count": 7,
      "metadata": {
        "id": "EgRblift5xUs"
      },
      "outputs": [],
      "source": [
        "import re\n",
        "import string\n",
        "\n",
        "\n",
        "def remove_URL(text):\n",
        "    url = re.compile(r\"https?://\\S+|www\\.\\S+\")\n",
        "    return url.sub(r\"\", text)\n",
        "\n",
        "\n",
        "def remove_html(text):\n",
        "    html = re.compile(r\"<.*?>\")\n",
        "    return html.sub(r\"\", text)\n",
        "\n",
        "def remove_emoji(string):\n",
        "    emoji_pattern = re.compile(\n",
        "        \"[\"\n",
        "        u\"\\U0001F600-\\U0001F64F\"  # emoticons\n",
        "        u\"\\U0001F300-\\U0001F5FF\"  # symbols & pictographs\n",
        "        u\"\\U0001F680-\\U0001F6FF\"  # transport & map symbols\n",
        "        u\"\\U0001F1E0-\\U0001F1FF\"  # flags (iOS)\n",
        "        u\"\\U00002702-\\U000027B0\"\n",
        "        u\"\\U000024C2-\\U0001F251\"\n",
        "        \"]+\",\n",
        "        flags=re.UNICODE,\n",
        "    )\n",
        "    return emoji_pattern.sub(r\"\", string)\n",
        "\n",
        "def remove_punct(text):\n",
        "  table = str.maketrans(\"\", \"\", string.punctuation)\n",
        "  return text.translate(table)\n",
        "\n"
      ]
    },
    {
      "cell_type": "code",
      "execution_count": 8,
      "metadata": {},
      "outputs": [
        {
          "name": "stdout",
          "output_type": "stream",
          "text": [
            "Requirement already satisfied: keras in /home/sriramprasad/.local/lib/python3.8/site-packages (2.11.0)\n",
            "Requirement already satisfied: tensorflow in /home/sriramprasad/.local/lib/python3.8/site-packages (2.11.0)\n",
            "Requirement already satisfied: tensorflow-estimator<2.12,>=2.11.0 in /home/sriramprasad/.local/lib/python3.8/site-packages (from tensorflow) (2.11.0)\n",
            "Requirement already satisfied: gast<=0.4.0,>=0.2.1 in /home/sriramprasad/.local/lib/python3.8/site-packages (from tensorflow) (0.4.0)\n",
            "Requirement already satisfied: grpcio<2.0,>=1.24.3 in /home/sriramprasad/.local/lib/python3.8/site-packages (from tensorflow) (1.51.1)\n",
            "Requirement already satisfied: google-pasta>=0.1.1 in /home/sriramprasad/.local/lib/python3.8/site-packages (from tensorflow) (0.2.0)\n",
            "Requirement already satisfied: wrapt>=1.11.0 in /home/sriramprasad/.local/lib/python3.8/site-packages (from tensorflow) (1.14.1)\n",
            "Requirement already satisfied: astunparse>=1.6.0 in /home/sriramprasad/.local/lib/python3.8/site-packages (from tensorflow) (1.6.3)\n",
            "Requirement already satisfied: flatbuffers>=2.0 in /home/sriramprasad/.local/lib/python3.8/site-packages (from tensorflow) (22.11.23)\n",
            "Requirement already satisfied: absl-py>=1.0.0 in /home/sriramprasad/.local/lib/python3.8/site-packages (from tensorflow) (1.3.0)\n",
            "Requirement already satisfied: termcolor>=1.1.0 in /home/sriramprasad/.local/lib/python3.8/site-packages (from tensorflow) (2.1.1)\n",
            "Requirement already satisfied: tensorflow-io-gcs-filesystem>=0.23.1; platform_machine != \"arm64\" or platform_system != \"Darwin\" in /home/sriramprasad/.local/lib/python3.8/site-packages (from tensorflow) (0.28.0)\n",
            "Requirement already satisfied: packaging in /home/sriramprasad/.local/lib/python3.8/site-packages (from tensorflow) (21.3)\n",
            "Requirement already satisfied: numpy>=1.20 in /home/sriramprasad/.local/lib/python3.8/site-packages (from tensorflow) (1.23.4)\n",
            "Requirement already satisfied: tensorboard<2.12,>=2.11 in /home/sriramprasad/.local/lib/python3.8/site-packages (from tensorflow) (2.11.0)\n",
            "Requirement already satisfied: keras<2.12,>=2.11.0 in /home/sriramprasad/.local/lib/python3.8/site-packages (from tensorflow) (2.11.0)\n",
            "Requirement already satisfied: opt-einsum>=2.3.2 in /home/sriramprasad/.local/lib/python3.8/site-packages (from tensorflow) (3.3.0)\n",
            "Requirement already satisfied: typing-extensions>=3.6.6 in /home/sriramprasad/.local/lib/python3.8/site-packages (from tensorflow) (4.4.0)\n",
            "Requirement already satisfied: six>=1.12.0 in /usr/lib/python3/dist-packages (from tensorflow) (1.14.0)\n",
            "Requirement already satisfied: libclang>=13.0.0 in /home/sriramprasad/.local/lib/python3.8/site-packages (from tensorflow) (14.0.6)\n",
            "Requirement already satisfied: setuptools in /usr/lib/python3/dist-packages (from tensorflow) (45.2.0)\n",
            "Requirement already satisfied: h5py>=2.9.0 in /home/sriramprasad/.local/lib/python3.8/site-packages (from tensorflow) (3.7.0)\n",
            "Requirement already satisfied: protobuf<3.20,>=3.9.2 in /home/sriramprasad/.local/lib/python3.8/site-packages (from tensorflow) (3.19.6)\n",
            "Requirement already satisfied: wheel<1.0,>=0.23.0 in /usr/lib/python3/dist-packages (from astunparse>=1.6.0->tensorflow) (0.34.2)\n",
            "Requirement already satisfied: pyparsing!=3.0.5,>=2.0.2 in /home/sriramprasad/.local/lib/python3.8/site-packages (from packaging->tensorflow) (3.0.9)\n",
            "Requirement already satisfied: tensorboard-plugin-wit>=1.6.0 in /home/sriramprasad/.local/lib/python3.8/site-packages (from tensorboard<2.12,>=2.11->tensorflow) (1.8.1)\n",
            "Requirement already satisfied: requests<3,>=2.21.0 in /usr/lib/python3/dist-packages (from tensorboard<2.12,>=2.11->tensorflow) (2.22.0)\n",
            "Requirement already satisfied: google-auth-oauthlib<0.5,>=0.4.1 in /home/sriramprasad/.local/lib/python3.8/site-packages (from tensorboard<2.12,>=2.11->tensorflow) (0.4.6)\n",
            "Requirement already satisfied: google-auth<3,>=1.6.3 in /home/sriramprasad/.local/lib/python3.8/site-packages (from tensorboard<2.12,>=2.11->tensorflow) (2.14.1)\n",
            "Requirement already satisfied: tensorboard-data-server<0.7.0,>=0.6.0 in /home/sriramprasad/.local/lib/python3.8/site-packages (from tensorboard<2.12,>=2.11->tensorflow) (0.6.1)\n",
            "Requirement already satisfied: werkzeug>=1.0.1 in /home/sriramprasad/.local/lib/python3.8/site-packages (from tensorboard<2.12,>=2.11->tensorflow) (2.2.2)\n",
            "Requirement already satisfied: markdown>=2.6.8 in /home/sriramprasad/.local/lib/python3.8/site-packages (from tensorboard<2.12,>=2.11->tensorflow) (3.4.1)\n",
            "Requirement already satisfied: requests-oauthlib>=0.7.0 in /home/sriramprasad/.local/lib/python3.8/site-packages (from google-auth-oauthlib<0.5,>=0.4.1->tensorboard<2.12,>=2.11->tensorflow) (1.3.1)\n",
            "Requirement already satisfied: rsa<5,>=3.1.4; python_version >= \"3.6\" in /home/sriramprasad/.local/lib/python3.8/site-packages (from google-auth<3,>=1.6.3->tensorboard<2.12,>=2.11->tensorflow) (4.9)\n",
            "Requirement already satisfied: cachetools<6.0,>=2.0.0 in /home/sriramprasad/.local/lib/python3.8/site-packages (from google-auth<3,>=1.6.3->tensorboard<2.12,>=2.11->tensorflow) (5.2.0)\n",
            "Requirement already satisfied: pyasn1-modules>=0.2.1 in /home/sriramprasad/.local/lib/python3.8/site-packages (from google-auth<3,>=1.6.3->tensorboard<2.12,>=2.11->tensorflow) (0.2.8)\n",
            "Requirement already satisfied: MarkupSafe>=2.1.1 in /home/sriramprasad/.local/lib/python3.8/site-packages (from werkzeug>=1.0.1->tensorboard<2.12,>=2.11->tensorflow) (2.1.1)\n",
            "Requirement already satisfied: importlib-metadata>=4.4; python_version < \"3.10\" in /home/sriramprasad/.local/lib/python3.8/site-packages (from markdown>=2.6.8->tensorboard<2.12,>=2.11->tensorflow) (5.0.0)\n",
            "Requirement already satisfied: oauthlib>=3.0.0 in /usr/lib/python3/dist-packages (from requests-oauthlib>=0.7.0->google-auth-oauthlib<0.5,>=0.4.1->tensorboard<2.12,>=2.11->tensorflow) (3.1.0)\n",
            "Requirement already satisfied: pyasn1>=0.1.3 in /home/sriramprasad/.local/lib/python3.8/site-packages (from rsa<5,>=3.1.4; python_version >= \"3.6\"->google-auth<3,>=1.6.3->tensorboard<2.12,>=2.11->tensorflow) (0.4.8)\n",
            "Requirement already satisfied: zipp>=0.5 in /home/sriramprasad/.local/lib/python3.8/site-packages (from importlib-metadata>=4.4; python_version < \"3.10\"->markdown>=2.6.8->tensorboard<2.12,>=2.11->tensorflow) (3.10.0)\n"
          ]
        },
        {
          "name": "stderr",
          "output_type": "stream",
          "text": [
            "2022-12-02 22:35:08.812125: I tensorflow/core/platform/cpu_feature_guard.cc:193] This TensorFlow binary is optimized with oneAPI Deep Neural Network Library (oneDNN) to use the following CPU instructions in performance-critical operations:  AVX2 AVX512F AVX512_VNNI FMA\n",
            "To enable them in other operations, rebuild TensorFlow with the appropriate compiler flags.\n",
            "2022-12-02 22:35:12.272060: I tensorflow/core/util/port.cc:104] oneDNN custom operations are on. You may see slightly different numerical results due to floating-point round-off errors from different computation orders. To turn them off, set the environment variable `TF_ENABLE_ONEDNN_OPTS=0`.\n",
            "2022-12-02 22:35:13.237157: W tensorflow/compiler/xla/stream_executor/platform/default/dso_loader.cc:64] Could not load dynamic library 'libcudart.so.11.0'; dlerror: libcudart.so.11.0: cannot open shared object file: No such file or directory\n",
            "2022-12-02 22:35:13.237204: I tensorflow/compiler/xla/stream_executor/cuda/cudart_stub.cc:29] Ignore above cudart dlerror if you do not have a GPU set up on your machine.\n",
            "2022-12-02 22:35:20.413919: W tensorflow/compiler/xla/stream_executor/platform/default/dso_loader.cc:64] Could not load dynamic library 'libnvinfer.so.7'; dlerror: libnvinfer.so.7: cannot open shared object file: No such file or directory\n",
            "2022-12-02 22:35:20.414071: W tensorflow/compiler/xla/stream_executor/platform/default/dso_loader.cc:64] Could not load dynamic library 'libnvinfer_plugin.so.7'; dlerror: libnvinfer_plugin.so.7: cannot open shared object file: No such file or directory\n",
            "2022-12-02 22:35:20.414080: W tensorflow/compiler/tf2tensorrt/utils/py_utils.cc:38] TF-TRT Warning: Cannot dlopen some TensorRT libraries. If you would like to use Nvidia GPU with TensorRT, please make sure the missing libraries mentioned above are installed properly.\n"
          ]
        }
      ],
      "source": [
        "import sys\n",
        "!{sys.executable} -m pip install keras\n",
        "!{sys.executable} -m pip install tensorflow\n",
        "\n",
        "from keras.preprocessing.text import Tokenizer\n",
        "from tensorflow.keras.preprocessing.sequence import pad_sequences\n"
      ]
    },
    {
      "cell_type": "markdown",
      "metadata": {
        "id": "Jhq54iW08a5C"
      },
      "source": [
        "We have to remove stop words in the sentences for making it more efficient"
      ]
    },
    {
      "cell_type": "code",
      "execution_count": 9,
      "metadata": {
        "colab": {
          "base_uri": "https://localhost:8080/"
        },
        "id": "UdVdUxcr8VSE",
        "outputId": "ad946b45-c59c-4033-e5b5-b720c8b0f566"
      },
      "outputs": [
        {
          "name": "stdout",
          "output_type": "stream",
          "text": [
            "maximum words in a sentence are 35\n",
            "maximum sentences in a review are44\n",
            "Total Number Of Reviews 350\n"
          ]
        },
        {
          "name": "stderr",
          "output_type": "stream",
          "text": [
            "/tmp/ipykernel_11204/2397471873.py:21: VisibleDeprecationWarning: Creating an ndarray from ragged nested sequences (which is a list-or-tuple of lists-or-tuples-or ndarrays with different lengths or shapes) is deprecated. If you meant to do this, you must specify 'dtype=object' when creating the ndarray.\n",
            "  corpus=np.array(corpus)\n"
          ]
        }
      ],
      "source": [
        "DATA.text = DATA.text.map(lambda x: remove_URL(x))\n",
        "DATA.text = DATA.text.map(lambda x: remove_html(x))\n",
        "DATA.text = DATA.text.map(lambda x: remove_emoji(x))\n",
        "DATA.text = DATA.text.map(lambda x: remove_punct(x))\n",
        "DATA.text = DATA.text.map(rem_stopwords)\n",
        "\n",
        "hell=list()\n",
        "\n",
        "corpus=list()\n",
        "size=list()\n",
        "\n",
        "\n",
        "hell = DATA.loc[:,\"text\"].tolist()\n",
        "hell1 = DATA.loc[:,\"rid\"].tolist()\n",
        "\n",
        "for i in range(len(Sentence_array)):\n",
        "    corpus.append(tokenise_data(hell[i]))\n",
        "    size.append(len(corpus[i]))\n",
        "\n",
        "\n",
        "corpus=np.array(corpus)\n",
        "hell1 = np.array(hell1)\n",
        "size=np.array(size)\n",
        "\n",
        "maximum= np.max(size)\n",
        "maximum1=np.max(hell1)\n",
        "print(\"maximum words in a sentence are \" + str(maximum))\n",
        "print(\"maximum sentences in a review are\" +str(maxi))\n",
        "print(\"Total Number Of Reviews\",+maximum1+1)\n"
      ]
    },
    {
      "cell_type": "markdown",
      "metadata": {
        "id": "ZhzmIEsF90XX"
      },
      "source": [
        "**Recap of What we have done till now:**\n",
        "\n",
        "\n",
        "1. Extracted all the relevant information from the xml file\n",
        "2. Created a pandas dataframe out of the required data for making our lives simpler\n",
        "3. Cleaned the data from pincuations, links, emojis, html   *italicized text*\n",
        "\n",
        "**Now let us create word embeddings for proceeding with the implementaion**\n",
        "\n"
      ]
    },
    {
      "cell_type": "markdown",
      "metadata": {
        "id": "AqPJkzZ4Ag2y"
      },
      "source": [
        "### Tokenizing, Padding, Preparing Deliverables for embedding Matrix "
      ]
    },
    {
      "cell_type": "code",
      "execution_count": 10,
      "metadata": {},
      "outputs": [
        {
          "name": "stdout",
          "output_type": "stream",
          "text": [
            "[[2058  609 2059 ...    0    0    0]\n",
            " [ 202   34  516 ...    0    0    0]\n",
            " [  17  611   34 ...    0    0    0]\n",
            " ...\n",
            " [ 605  347  292 ...    0    0    0]\n",
            " [ 249   91    7 ...    0    0    0]\n",
            " [ 249   91    7 ...    0    0    0]]\n",
            "[[2058  609 2059 ...    0    0    0]\n",
            " [ 202   34  516 ...    0    0    0]\n",
            " [  17  611   34 ...    0    0    0]\n",
            " ...\n",
            " [ 605  347  292 ...    0    0    0]\n",
            " [ 249   91    7 ...    0    0    0]\n",
            " [ 249   91    7 ...    0    0    0]]\n",
            "<class 'numpy.ndarray'>\n",
            "35\n"
          ]
        }
      ],
      "source": [
        "tokenizer = Tokenizer(num_words=1000000)\n",
        "tokenizer.fit_on_texts(DATA.text)\n",
        "word_index = tokenizer.word_index\n",
        "sequences = tokenizer.texts_to_sequences(DATA.text)\n",
        "\n",
        "paddedsequences = pad_sequences(\n",
        "sequences, maxlen=35, truncating=\"post\", padding=\"post\"\n",
        ")\n",
        "\n",
        "print(paddedsequences)\n",
        "print(paddedsequences)\n",
        "print(type(paddedsequences[0]))\n",
        "print(len(paddedsequences[0]))\n"
      ]
    },
    {
      "cell_type": "markdown",
      "metadata": {
        "id": "y_Ap2-h1F8e_"
      },
      "source": [
        "Now let us create train sequences which can be processed with embeddings for catching the relation better\n",
        "\n",
        "**IMPORTANT OBSERVATIONS:<br>\n",
        "1) MAXIMUM NUMBER OF WORDS IN A SENTENCE IS : 35 <br>\n",
        "2) MAXIMUM NUMBER OF SENTENCES IN A REVIEW IS : 44<br>\n",
        "3) TOTAL NUMBER OF REVIEWS : 350**"
      ]
    },
    {
      "cell_type": "code",
      "execution_count": 11,
      "metadata": {
        "colab": {
          "base_uri": "https://localhost:8080/",
          "height": 419
        },
        "id": "HYDZVQeR_y2u",
        "outputId": "c3723a64-4c18-48b5-c2fc-bf56a1c96ed8"
      },
      "outputs": [
        {
          "data": {
            "text/plain": [
              "0        [2058.0, 609.0, 2059.0, 843.0, 4.0, 5.0, 610.0...\n",
              "1        [202.0, 34.0, 516.0, 2060.0, 5.0, 411.0, 11.0,...\n",
              "2        [17.0, 611.0, 34.0, 612.0, 517.0, 1417.0, 2063...\n",
              "3        [1.0, 845.0, 258.0, 613.0, 162.0, 343.0, 0.0, ...\n",
              "4        [1.0, 845.0, 258.0, 613.0, 162.0, 343.0, 0.0, ...\n",
              "                               ...                        \n",
              "15351    [0.0, 0.0, 0.0, 0.0, 0.0, 0.0, 0.0, 0.0, 0.0, ...\n",
              "15352    [0.0, 0.0, 0.0, 0.0, 0.0, 0.0, 0.0, 0.0, 0.0, ...\n",
              "15353    [0.0, 0.0, 0.0, 0.0, 0.0, 0.0, 0.0, 0.0, 0.0, ...\n",
              "15354    [0.0, 0.0, 0.0, 0.0, 0.0, 0.0, 0.0, 0.0, 0.0, ...\n",
              "15355    [0.0, 0.0, 0.0, 0.0, 0.0, 0.0, 0.0, 0.0, 0.0, ...\n",
              "Name: sequence, Length: 15356, dtype: object"
            ]
          },
          "execution_count": 11,
          "metadata": {},
          "output_type": "execute_result"
        }
      ],
      "source": [
        "newpaddingsequences = []\n",
        "newpolarity = []\n",
        "newaspect= []\n",
        "newrid=[]\n",
        "temp=[]\n",
        "import numpy as np\n",
        "padding = np.zeros((35))\n",
        "\n",
        "j=0\n",
        "for i in range(349):\n",
        "\n",
        "  limit44 = 0\n",
        "  while(ref_revarray[j]==i):\n",
        "    newpaddingsequences.append(paddedsequences[j])\n",
        "    newpolarity.append(effect_array[j])\n",
        "    newaspect.append(asp_array[j])\n",
        "    newrid.append(i)\n",
        "\n",
        "    limit44+=1\n",
        "    j+=1\n",
        "    #print(j)\n",
        "    #print(i)\n",
        "  while(limit44 < 44):\n",
        "    newpaddingsequences.append(padding)\n",
        "    newpolarity.append(0.5)\n",
        "    newaspect.append(\"FOOD#QUALITY\")\n",
        "    newrid.append(i)\n",
        "    limit44 +=1\n",
        "\n",
        "# print(len(newpaddingsequences))\n",
        "# print(len(newpolarity[:44]))\n",
        "newpaddingsequences = np.array(newpaddingsequences)\n",
        "newpolarity = np.array(newpolarity)\n",
        "newaspect = np.array(newaspect)\n",
        "newrid = np.array(newrid)\n",
        "temp = np.array(temp)\n",
        "new_aspect_array=[]\n",
        "for i in range(len(asp_array)):\n",
        "    new_aspect_array.append(((asp_array[i]).split('#')))\n",
        "    new_aspect_array[i][0]=new_aspect_array[i][0].lower()\n",
        "    new_aspect_array[i][1]=new_aspect_array[i][1].lower()\n",
        "    if(new_aspect_array[i][1]=='style_options'):\n",
        "        new_aspect_array[i][1]='style'\n",
        "#         print(\"yes\")\n",
        "\n",
        "# print((new_aspect_array))\n",
        "data = []\n",
        "for i in range(len(newpaddingsequences)):\n",
        "  data.append([newrid[i], newaspect[i],newpaddingsequences[i],newpolarity[i]])\n",
        "  \n",
        "# Create the pandas DataFrame\n",
        "DATA = pd.DataFrame(data, columns = ['rid','aspect','sequence','polarity'])\n",
        "\n",
        "\n",
        "DATA.sequence\n",
        "\n"
      ]
    },
    {
      "cell_type": "markdown",
      "metadata": {
        "id": "CJe2pFSxKyyc"
      },
      "source": [
        "This sequencing and stuff is done, now let us go to word embedddings baby"
      ]
    },
    {
      "cell_type": "code",
      "execution_count": 12,
      "metadata": {
        "colab": {
          "base_uri": "https://localhost:8080/"
        },
        "id": "_aClaj7ZFbaP",
        "outputId": "0058fee9-fa2d-4468-b7cb-1b7a2bb1cab2"
      },
      "outputs": [
        {
          "name": "stdout",
          "output_type": "stream",
          "text": [
            "(2010, 35)\n",
            "[[2821  647    0 ...    0    0    0]\n",
            " [   2    1    0 ...    0    0    0]\n",
            " [  51  396  519 ...    0    0    0]\n",
            " ...\n",
            " [ 605  347  292 ...    0    0    0]\n",
            " [ 249   91    7 ...    0    0    0]\n",
            " [ 249   91    7 ...    0    0    0]]\n"
          ]
        }
      ],
      "source": [
        "final_train_seq=paddedsequences[:2010]\n",
        "final_test_seq=paddedsequences[2010:]\n",
        "\n",
        "final_train_label=pol_arr[:2010]\n",
        "final_test_label=pol_arr[2010:]\n",
        "\n",
        "print(final_train_seq.shape)\n",
        "\n",
        "print(final_test_seq)\n"
      ]
    },
    {
      "cell_type": "markdown",
      "metadata": {
        "id": "vs00kiywK8Jl"
      },
      "source": [
        "### Embeddings"
      ]
    },
    {
      "cell_type": "code",
      "execution_count": 13,
      "metadata": {
        "id": "qsZJKx8QLCdr"
      },
      "outputs": [],
      "source": [
        "import numpy as np\n",
        "embedding_dict = {}\n",
        "with open(\"glove.twitter.27B.100d.txt\", \"r\",encoding=\"utf8\") as f:\n",
        "    for line in f:\n",
        "        values = line.split()\n",
        "        word = values[0]\n",
        "        vectors = np.asarray(values[1:], \"float32\")\n",
        "        embedding_dict[word] = vectors\n",
        "f.close()"
      ]
    },
    {
      "cell_type": "code",
      "execution_count": 14,
      "metadata": {
        "id": "4JACYxi0bXeB"
      },
      "outputs": [
        {
          "data": {
            "text/plain": [
              "array([-0.65304  ,  0.67496  , -0.52621  ,  0.30145  ,  0.069593 ,\n",
              "       -0.15635  ,  0.053281 , -0.76136  ,  0.79736  , -0.41488  ,\n",
              "        0.60945  ,  0.14195  ,  1.337    ,  0.24787  ,  1.144    ,\n",
              "        0.6167   , -0.28845  ,  0.32831  ,  1.2722   ,  0.42938  ,\n",
              "        1.4665   ,  0.048341 , -0.20411  ,  0.36426  , -0.16438  ,\n",
              "        0.86703  ,  0.14129  ,  0.76295  , -0.8172   ,  0.11017  ,\n",
              "        0.50265  ,  0.13047  ,  1.0354   , -1.0856   , -0.30595  ,\n",
              "        0.34106  ,  0.14021  , -0.027409 , -0.24942  ,  0.25416  ,\n",
              "        0.64679  , -0.22021  ,  0.39994  ,  0.3335   , -0.13457  ,\n",
              "        0.01284  , -0.85238  , -0.22307  ,  0.59499  ,  0.73318  ,\n",
              "        1.1219   ,  0.30758  ,  0.58002  ,  0.42044  ,  0.43146  ,\n",
              "       -0.0503   ,  0.5681   ,  0.011106 ,  0.34734  , -0.15787  ,\n",
              "       -0.071503 , -0.016518 ,  0.93803  , -0.74437  ,  0.1035   ,\n",
              "       -0.58374  ,  0.14542  , -0.34447  ,  0.47532  , -0.22283  ,\n",
              "       -0.49388  ,  0.27964  , -0.16178  , -0.55446  , -0.0064784,\n",
              "       -0.13777  ,  0.30686  ,  0.67145  ,  0.38204  ,  0.61015  ,\n",
              "       -0.37078  , -0.26404  , -0.34462  ,  0.4882   , -0.26733  ,\n",
              "        0.20226  , -1.2094   , -0.22742  , -0.1937   ,  0.36815  ,\n",
              "       -0.55012  ,  1.2866   ,  0.22652  , -0.0058366, -0.34199  ,\n",
              "       -0.097492 ,  0.26625  ,  0.34668  , -0.55923  ,  0.68592  ],\n",
              "      dtype=float32)"
            ]
          },
          "execution_count": 14,
          "metadata": {},
          "output_type": "execute_result"
        }
      ],
      "source": [
        "embedding_dict['penbgt']"
      ]
    },
    {
      "cell_type": "code",
      "execution_count": 15,
      "metadata": {
        "id": "4dUogiujbXeB"
      },
      "outputs": [
        {
          "name": "stdout",
          "output_type": "stream",
          "text": [
            "[[ 0.          0.          0.         ...  0.          0.\n",
            "   0.        ]\n",
            " [-0.52348    -0.39926001  0.24898    ... -0.023053   -0.019998\n",
            "   0.2467    ]\n",
            " [ 0.1073      0.36058     0.11135    ...  0.14933001 -0.30864999\n",
            "  -0.55198002]\n",
            " ...\n",
            " [-0.42250001 -0.36368999 -0.33282    ... -0.74137002  0.15254\n",
            "  -0.17957   ]\n",
            " [-0.28277001  0.71575999  0.44635001 ...  0.14325     1.02569997\n",
            "   0.37064999]\n",
            " [-0.14717001 -0.094362   -0.1002     ...  0.074088   -0.15397\n",
            "  -0.18822999]]\n"
          ]
        },
        {
          "data": {
            "text/plain": [
              "array([-0.52348  , -0.39926  ,  0.24898  , -0.039715 ,  0.067344 ,\n",
              "       -0.34445  ,  0.34888  ,  0.60016  ,  0.94921  , -0.64628  ,\n",
              "       -1.1042   , -0.44242  , -4.2723   ,  0.47759  , -0.54165  ,\n",
              "        0.55117  ,  0.26203  , -0.47045  , -0.37717  , -0.5985   ,\n",
              "       -0.10843  ,  0.32041  , -0.40699  ,  0.004276 ,  0.5429   ,\n",
              "        0.42808  , -0.16087  , -0.13919  ,  0.58994  ,  0.1809   ,\n",
              "       -0.88564  , -0.047295 , -0.97389  , -0.0083825,  0.085801 ,\n",
              "       -0.68881  ,  0.41937  ,  0.73735  ,  0.69426  ,  0.97459  ,\n",
              "       -0.43348  ,  0.33125  ,  0.065084 , -0.13284  ,  0.99607  ,\n",
              "        0.82727  ,  0.065382 ,  0.80963  , -0.095502 ,  0.049895 ,\n",
              "       -0.77063  , -0.24953  , -0.76081  ,  0.91922  ,  0.20773  ,\n",
              "        0.41041  ,  0.71853  , -0.22399  ,  0.2767   , -0.44373  ,\n",
              "       -0.35005  , -0.15431  ,  0.013649 ,  0.38956  ,  0.32611  ,\n",
              "       -0.84561  ,  0.27346  , -0.486    , -0.17267  , -0.081096 ,\n",
              "       -0.30867  , -0.20255  ,  0.33779  ,  0.27343  ,  0.46227  ,\n",
              "       -0.24736  , -1.2959   , -0.23204  ,  0.66324  ,  0.27273  ,\n",
              "        1.4338   ,  0.73959  , -0.44582  , -0.37129  ,  0.28817  ,\n",
              "        0.27981  , -0.20058  , -0.155    , -0.11982  , -0.093805 ,\n",
              "       -0.31183  , -0.055695 , -0.055606 ,  0.52088  ,  0.067107 ,\n",
              "        0.43624  , -0.032742 , -0.023053 , -0.019998 ,  0.2467   ],\n",
              "      dtype=float32)"
            ]
          },
          "execution_count": 15,
          "metadata": {},
          "output_type": "execute_result"
        }
      ],
      "source": [
        "num_words = len(word_index) +1\n",
        "embedding_matrix = np.zeros((num_words, 100))\n",
        "\n",
        "for word, i in word_index.items():\n",
        "    if i < num_words:\n",
        "        emb_vec = embedding_dict.get(word)\n",
        "        if emb_vec is not None:\n",
        "            embedding_matrix[i] = emb_vec\n",
        "word_index\n",
        "print(embedding_matrix)\n",
        "\n",
        "embedding_dict.get('food')"
      ]
    },
    {
      "cell_type": "code",
      "execution_count": 16,
      "metadata": {
        "colab": {
          "base_uri": "https://localhost:8080/"
        },
        "id": "FIn3WE1-bXeB",
        "outputId": "498586be-1b34-45af-ac20-0744383f62f1"
      },
      "outputs": [
        {
          "name": "stdout",
          "output_type": "stream",
          "text": [
            "(3053, 100)\n"
          ]
        }
      ],
      "source": [
        "print((embedding_matrix.shape))"
      ]
    },
    {
      "cell_type": "code",
      "execution_count": 17,
      "metadata": {
        "id": "PvJ2pqfnbXeC"
      },
      "outputs": [
        {
          "data": {
            "text/plain": [
              "'restaurant'"
            ]
          },
          "execution_count": 17,
          "metadata": {},
          "output_type": "execute_result"
        }
      ],
      "source": [
        "aa=new_aspect_array[0][0]\n",
        "\n",
        "embedding_dict.get(aa)\n",
        "new_aspect_array[0][0]"
      ]
    },
    {
      "cell_type": "code",
      "execution_count": 18,
      "metadata": {
        "colab": {
          "base_uri": "https://localhost:8080/"
        },
        "id": "pzYSkdJFbXeC",
        "outputId": "76ad6840-7d43-431d-9e30-e83b42337aa1"
      },
      "outputs": [
        {
          "name": "stdout",
          "output_type": "stream",
          "text": [
            "[[2058  609 2059 ...    0    0    0]\n",
            " [ 202   34  516 ...    0    0    0]\n",
            " [  17  611   34 ...    0    0    0]\n",
            " ...\n",
            " [   8  371  555 ...    0    0    0]\n",
            " [ 279   55    8 ...    0    0    0]\n",
            " [  37    1    0 ...    0    0    0]]\n",
            "[0. 0. 0. ... 1. 1. 1.]\n"
          ]
        },
        {
          "data": {
            "text/plain": [
              "numpy.ndarray"
            ]
          },
          "execution_count": 18,
          "metadata": {},
          "output_type": "execute_result"
        }
      ],
      "source": [
        "print(final_train_seq)\n",
        "print(final_train_label)\n",
        "num_words\n",
        "type(final_train_label)"
      ]
    },
    {
      "cell_type": "code",
      "execution_count": 19,
      "metadata": {
        "id": "xv6qVwq9bXeC"
      },
      "outputs": [
        {
          "name": "stderr",
          "output_type": "stream",
          "text": [
            "2022-12-02 22:36:10.704637: E tensorflow/compiler/xla/stream_executor/cuda/cuda_driver.cc:267] failed call to cuInit: CUDA_ERROR_NO_DEVICE: no CUDA-capable device is detected\n",
            "2022-12-02 22:36:10.704804: I tensorflow/compiler/xla/stream_executor/cuda/cuda_diagnostics.cc:156] kernel driver does not appear to be running on this host (sriram): /proc/driver/nvidia/version does not exist\n",
            "2022-12-02 22:36:10.875247: I tensorflow/core/platform/cpu_feature_guard.cc:193] This TensorFlow binary is optimized with oneAPI Deep Neural Network Library (oneDNN) to use the following CPU instructions in performance-critical operations:  AVX2 AVX512F AVX512_VNNI FMA\n",
            "To enable them in other operations, rebuild TensorFlow with the appropriate compiler flags.\n"
          ]
        },
        {
          "data": {
            "text/plain": [
              "<bound method Model.summary of <keras.engine.sequential.Sequential object at 0x7feafc05a460>>"
            ]
          },
          "execution_count": 19,
          "metadata": {},
          "output_type": "execute_result"
        }
      ],
      "source": [
        "\n",
        "from keras.models import Sequential\n",
        "from keras.layers import Embedding, LSTM, Dense, Dropout, Bidirectional, Input\n",
        "from keras.initializers import Constant\n",
        "from tensorflow.keras.optimizers import Adam\n",
        "\n",
        "model = Sequential()\n",
        "\n",
        "model.add(\n",
        "    Embedding(\n",
        "        num_words,\n",
        "        100,\n",
        "        embeddings_initializer=Constant(embedding_matrix),\n",
        "        input_length=35,\n",
        "        trainable=False,\n",
        "    )\n",
        ")\n",
        "model.add(Bidirectional(LSTM(15,dropout=0.5)))\n",
        "model.add(Dense(1, activation=\"sigmoid\"))\n",
        "\n",
        "\n",
        "\n",
        "optimizer = Adam(learning_rate=3e-4)\n",
        "\n",
        "model.compile(loss=\"binary_crossentropy\", optimizer=optimizer, metrics=[\"accuracy\"])\n",
        "model.summary"
      ]
    },
    {
      "cell_type": "code",
      "execution_count": 20,
      "metadata": {
        "colab": {
          "base_uri": "https://localhost:8080/"
        },
        "id": "tP0DuBJ1bXeC",
        "outputId": "d2b4d304-53eb-463b-f7f0-30f79771abbc"
      },
      "outputs": [
        {
          "name": "stdout",
          "output_type": "stream",
          "text": [
            "(2010, 35)\n",
            "(2010,)\n"
          ]
        }
      ],
      "source": [
        "print(final_train_seq.shape)\n",
        "print(final_train_label.shape)\n",
        "\n"
      ]
    },
    {
      "cell_type": "code",
      "execution_count": 21,
      "metadata": {
        "colab": {
          "base_uri": "https://localhost:8080/"
        },
        "id": "YYysj5E2bXeD",
        "outputId": "18daa789-64e9-4e0f-827d-482c69e92c84"
      },
      "outputs": [
        {
          "name": "stdout",
          "output_type": "stream",
          "text": [
            "Epoch 1/20\n",
            "63/63 [==============================] - 10s 43ms/step - loss: 0.6418 - accuracy: 0.6622 - val_loss: 0.5857 - val_accuracy: 0.7204\n",
            "Epoch 2/20\n",
            "63/63 [==============================] - 2s 28ms/step - loss: 0.5705 - accuracy: 0.7209 - val_loss: 0.5481 - val_accuracy: 0.7204\n",
            "Epoch 3/20\n",
            "63/63 [==============================] - 2s 32ms/step - loss: 0.5219 - accuracy: 0.7204 - val_loss: 0.4788 - val_accuracy: 0.7214\n",
            "Epoch 4/20\n",
            "63/63 [==============================] - 2s 29ms/step - loss: 0.4810 - accuracy: 0.7403 - val_loss: 0.4445 - val_accuracy: 0.7418\n",
            "Epoch 5/20\n",
            "63/63 [==============================] - 2s 28ms/step - loss: 0.4705 - accuracy: 0.7562 - val_loss: 0.4365 - val_accuracy: 0.7836\n",
            "Epoch 6/20\n",
            "63/63 [==============================] - 2s 29ms/step - loss: 0.4625 - accuracy: 0.7766 - val_loss: 0.4223 - val_accuracy: 0.7826\n",
            "Epoch 7/20\n",
            "63/63 [==============================] - 2s 29ms/step - loss: 0.4450 - accuracy: 0.7721 - val_loss: 0.4107 - val_accuracy: 0.8095\n",
            "Epoch 8/20\n",
            "63/63 [==============================] - 2s 29ms/step - loss: 0.4487 - accuracy: 0.7781 - val_loss: 0.4027 - val_accuracy: 0.8164\n",
            "Epoch 9/20\n",
            "63/63 [==============================] - 2s 32ms/step - loss: 0.4354 - accuracy: 0.7821 - val_loss: 0.3976 - val_accuracy: 0.8114\n",
            "Epoch 10/20\n",
            "63/63 [==============================] - 2s 28ms/step - loss: 0.4238 - accuracy: 0.7826 - val_loss: 0.3913 - val_accuracy: 0.8164\n",
            "Epoch 11/20\n",
            "63/63 [==============================] - 2s 31ms/step - loss: 0.4191 - accuracy: 0.7940 - val_loss: 0.3834 - val_accuracy: 0.8159\n",
            "Epoch 12/20\n",
            "63/63 [==============================] - 2s 34ms/step - loss: 0.4194 - accuracy: 0.7905 - val_loss: 0.3796 - val_accuracy: 0.8149\n",
            "Epoch 13/20\n",
            "63/63 [==============================] - 2s 33ms/step - loss: 0.4095 - accuracy: 0.7995 - val_loss: 0.3733 - val_accuracy: 0.8144\n",
            "Epoch 14/20\n",
            "63/63 [==============================] - 2s 32ms/step - loss: 0.4060 - accuracy: 0.7930 - val_loss: 0.3702 - val_accuracy: 0.8169\n",
            "Epoch 15/20\n",
            "63/63 [==============================] - 1s 22ms/step - loss: 0.4109 - accuracy: 0.7960 - val_loss: 0.3663 - val_accuracy: 0.8214\n",
            "Epoch 16/20\n",
            "63/63 [==============================] - 2s 25ms/step - loss: 0.4061 - accuracy: 0.8025 - val_loss: 0.3638 - val_accuracy: 0.8224\n",
            "Epoch 17/20\n",
            "63/63 [==============================] - 2s 24ms/step - loss: 0.3987 - accuracy: 0.8040 - val_loss: 0.3624 - val_accuracy: 0.8224\n",
            "Epoch 18/20\n",
            "63/63 [==============================] - 2s 28ms/step - loss: 0.3940 - accuracy: 0.7975 - val_loss: 0.3581 - val_accuracy: 0.8274\n",
            "Epoch 19/20\n",
            "63/63 [==============================] - 2s 29ms/step - loss: 0.3984 - accuracy: 0.8000 - val_loss: 0.3586 - val_accuracy: 0.8214\n",
            "Epoch 20/20\n",
            "63/63 [==============================] - 2s 29ms/step - loss: 0.3955 - accuracy: 0.8104 - val_loss: 0.3536 - val_accuracy: 0.8318\n"
          ]
        }
      ],
      "source": [
        "history = model.fit(\n",
        "    final_train_seq,\n",
        "    final_train_label,\n",
        "    epochs=20,\n",
        "    validation_data=(final_train_seq,final_train_label),\n",
        "    verbose=1,\n",
        ")"
      ]
    },
    {
      "cell_type": "code",
      "execution_count": 22,
      "metadata": {
        "colab": {
          "base_uri": "https://localhost:8080/"
        },
        "id": "xCn84yUIbXeD",
        "outputId": "2bc0d9f0-804e-41c1-b70b-5b42bd05120e"
      },
      "outputs": [
        {
          "name": "stdout",
          "output_type": "stream",
          "text": [
            "(498, 35) (498,)\n"
          ]
        }
      ],
      "source": [
        "print(final_test_seq.shape,final_test_label.shape)"
      ]
    },
    {
      "cell_type": "code",
      "execution_count": 23,
      "metadata": {
        "colab": {
          "base_uri": "https://localhost:8080/"
        },
        "id": "dkSN5eyubXeD",
        "outputId": "e2d1290e-29ef-4b0d-ae89-34682b30f375"
      },
      "outputs": [
        {
          "name": "stdout",
          "output_type": "stream",
          "text": [
            "16/16 [==============================] - 1s 8ms/step\n",
            "(498, 1)\n",
            "[0.8866892]\n"
          ]
        },
        {
          "data": {
            "text/plain": [
              "array([[1],\n",
              "       [1],\n",
              "       [1],\n",
              "       [1],\n",
              "       [1],\n",
              "       [0],\n",
              "       [1],\n",
              "       [1],\n",
              "       [1],\n",
              "       [1],\n",
              "       [1],\n",
              "       [1],\n",
              "       [1],\n",
              "       [1],\n",
              "       [0],\n",
              "       [1],\n",
              "       [0],\n",
              "       [1],\n",
              "       [1],\n",
              "       [1],\n",
              "       [1],\n",
              "       [0],\n",
              "       [0],\n",
              "       [1],\n",
              "       [1],\n",
              "       [1],\n",
              "       [1],\n",
              "       [0],\n",
              "       [0],\n",
              "       [0],\n",
              "       [1],\n",
              "       [1],\n",
              "       [1],\n",
              "       [1],\n",
              "       [1],\n",
              "       [1],\n",
              "       [1],\n",
              "       [1],\n",
              "       [0],\n",
              "       [1],\n",
              "       [1],\n",
              "       [1],\n",
              "       [1],\n",
              "       [1],\n",
              "       [1],\n",
              "       [1],\n",
              "       [1],\n",
              "       [0],\n",
              "       [0],\n",
              "       [1],\n",
              "       [1],\n",
              "       [1],\n",
              "       [1],\n",
              "       [1],\n",
              "       [1],\n",
              "       [0],\n",
              "       [1],\n",
              "       [1],\n",
              "       [1],\n",
              "       [1],\n",
              "       [1],\n",
              "       [1],\n",
              "       [1],\n",
              "       [1],\n",
              "       [1],\n",
              "       [1],\n",
              "       [1],\n",
              "       [0],\n",
              "       [1],\n",
              "       [1],\n",
              "       [1],\n",
              "       [1],\n",
              "       [1],\n",
              "       [1],\n",
              "       [0],\n",
              "       [1],\n",
              "       [1],\n",
              "       [1],\n",
              "       [1],\n",
              "       [1],\n",
              "       [1],\n",
              "       [0],\n",
              "       [0],\n",
              "       [0],\n",
              "       [0],\n",
              "       [1],\n",
              "       [1],\n",
              "       [1],\n",
              "       [0],\n",
              "       [1],\n",
              "       [1],\n",
              "       [1],\n",
              "       [1],\n",
              "       [1],\n",
              "       [1],\n",
              "       [0],\n",
              "       [0],\n",
              "       [0],\n",
              "       [0],\n",
              "       [1],\n",
              "       [1],\n",
              "       [1],\n",
              "       [1],\n",
              "       [1],\n",
              "       [1],\n",
              "       [1],\n",
              "       [0],\n",
              "       [0],\n",
              "       [0],\n",
              "       [0],\n",
              "       [0],\n",
              "       [1],\n",
              "       [0],\n",
              "       [0],\n",
              "       [0],\n",
              "       [0],\n",
              "       [1],\n",
              "       [1],\n",
              "       [0],\n",
              "       [0],\n",
              "       [0],\n",
              "       [0],\n",
              "       [1],\n",
              "       [1],\n",
              "       [1],\n",
              "       [0],\n",
              "       [0],\n",
              "       [0],\n",
              "       [1],\n",
              "       [0],\n",
              "       [0],\n",
              "       [0],\n",
              "       [0],\n",
              "       [0],\n",
              "       [0],\n",
              "       [1],\n",
              "       [1],\n",
              "       [1],\n",
              "       [0],\n",
              "       [0],\n",
              "       [1],\n",
              "       [1],\n",
              "       [1],\n",
              "       [1],\n",
              "       [1],\n",
              "       [0],\n",
              "       [0],\n",
              "       [0],\n",
              "       [0],\n",
              "       [0],\n",
              "       [0],\n",
              "       [0],\n",
              "       [0],\n",
              "       [0],\n",
              "       [0],\n",
              "       [0],\n",
              "       [1],\n",
              "       [1],\n",
              "       [1],\n",
              "       [1],\n",
              "       [1],\n",
              "       [0],\n",
              "       [0],\n",
              "       [1],\n",
              "       [0],\n",
              "       [1],\n",
              "       [1],\n",
              "       [1],\n",
              "       [1],\n",
              "       [1],\n",
              "       [1],\n",
              "       [0],\n",
              "       [1],\n",
              "       [1],\n",
              "       [1],\n",
              "       [1],\n",
              "       [1],\n",
              "       [1],\n",
              "       [0],\n",
              "       [0],\n",
              "       [1],\n",
              "       [1],\n",
              "       [1],\n",
              "       [1],\n",
              "       [0],\n",
              "       [0],\n",
              "       [0],\n",
              "       [1],\n",
              "       [1],\n",
              "       [1],\n",
              "       [1],\n",
              "       [0],\n",
              "       [0],\n",
              "       [1],\n",
              "       [1],\n",
              "       [1],\n",
              "       [0],\n",
              "       [0],\n",
              "       [0],\n",
              "       [0],\n",
              "       [0],\n",
              "       [0],\n",
              "       [0],\n",
              "       [0],\n",
              "       [0],\n",
              "       [0],\n",
              "       [0],\n",
              "       [0],\n",
              "       [0],\n",
              "       [0],\n",
              "       [1],\n",
              "       [1],\n",
              "       [1],\n",
              "       [1],\n",
              "       [1],\n",
              "       [1],\n",
              "       [1],\n",
              "       [0],\n",
              "       [0],\n",
              "       [0],\n",
              "       [0],\n",
              "       [0],\n",
              "       [0],\n",
              "       [0],\n",
              "       [0],\n",
              "       [0],\n",
              "       [0],\n",
              "       [0],\n",
              "       [0],\n",
              "       [0],\n",
              "       [0],\n",
              "       [1],\n",
              "       [1],\n",
              "       [0],\n",
              "       [1],\n",
              "       [1],\n",
              "       [0],\n",
              "       [0],\n",
              "       [1],\n",
              "       [1],\n",
              "       [1],\n",
              "       [1],\n",
              "       [1],\n",
              "       [1],\n",
              "       [1],\n",
              "       [1],\n",
              "       [1],\n",
              "       [1],\n",
              "       [1],\n",
              "       [1],\n",
              "       [1],\n",
              "       [1],\n",
              "       [1],\n",
              "       [1],\n",
              "       [1],\n",
              "       [0],\n",
              "       [0],\n",
              "       [1],\n",
              "       [1],\n",
              "       [1],\n",
              "       [1],\n",
              "       [1],\n",
              "       [1],\n",
              "       [1],\n",
              "       [1],\n",
              "       [1],\n",
              "       [1],\n",
              "       [1],\n",
              "       [1],\n",
              "       [1],\n",
              "       [1],\n",
              "       [0],\n",
              "       [0],\n",
              "       [0],\n",
              "       [0],\n",
              "       [0],\n",
              "       [0],\n",
              "       [0],\n",
              "       [0],\n",
              "       [1],\n",
              "       [1],\n",
              "       [1],\n",
              "       [0],\n",
              "       [1],\n",
              "       [1],\n",
              "       [1],\n",
              "       [1],\n",
              "       [1],\n",
              "       [1],\n",
              "       [1],\n",
              "       [1],\n",
              "       [1],\n",
              "       [1],\n",
              "       [1],\n",
              "       [1],\n",
              "       [1],\n",
              "       [1],\n",
              "       [1],\n",
              "       [1],\n",
              "       [1],\n",
              "       [1],\n",
              "       [1],\n",
              "       [1],\n",
              "       [0],\n",
              "       [0],\n",
              "       [0],\n",
              "       [0],\n",
              "       [1],\n",
              "       [1],\n",
              "       [1],\n",
              "       [0],\n",
              "       [1],\n",
              "       [1],\n",
              "       [1],\n",
              "       [1],\n",
              "       [1],\n",
              "       [1],\n",
              "       [1],\n",
              "       [1],\n",
              "       [1],\n",
              "       [1],\n",
              "       [0],\n",
              "       [0],\n",
              "       [1],\n",
              "       [1],\n",
              "       [0],\n",
              "       [0],\n",
              "       [1],\n",
              "       [0],\n",
              "       [1],\n",
              "       [1],\n",
              "       [0],\n",
              "       [1],\n",
              "       [1],\n",
              "       [1],\n",
              "       [1],\n",
              "       [1],\n",
              "       [1],\n",
              "       [1],\n",
              "       [1],\n",
              "       [0],\n",
              "       [0],\n",
              "       [0],\n",
              "       [1],\n",
              "       [1],\n",
              "       [0],\n",
              "       [1],\n",
              "       [1],\n",
              "       [1],\n",
              "       [0],\n",
              "       [0],\n",
              "       [0],\n",
              "       [0],\n",
              "       [0],\n",
              "       [0],\n",
              "       [0],\n",
              "       [1],\n",
              "       [0],\n",
              "       [0],\n",
              "       [0],\n",
              "       [0],\n",
              "       [0],\n",
              "       [0],\n",
              "       [0],\n",
              "       [1],\n",
              "       [1],\n",
              "       [1],\n",
              "       [1],\n",
              "       [0],\n",
              "       [1],\n",
              "       [1],\n",
              "       [1],\n",
              "       [1],\n",
              "       [0],\n",
              "       [1],\n",
              "       [1],\n",
              "       [1],\n",
              "       [1],\n",
              "       [1],\n",
              "       [1],\n",
              "       [1],\n",
              "       [0],\n",
              "       [1],\n",
              "       [1],\n",
              "       [0],\n",
              "       [0],\n",
              "       [0],\n",
              "       [0],\n",
              "       [1],\n",
              "       [1],\n",
              "       [0],\n",
              "       [0],\n",
              "       [1],\n",
              "       [1],\n",
              "       [1],\n",
              "       [1],\n",
              "       [0],\n",
              "       [1],\n",
              "       [1],\n",
              "       [1],\n",
              "       [1],\n",
              "       [1],\n",
              "       [0],\n",
              "       [0],\n",
              "       [0],\n",
              "       [0],\n",
              "       [0],\n",
              "       [0],\n",
              "       [0],\n",
              "       [1],\n",
              "       [0],\n",
              "       [0],\n",
              "       [0],\n",
              "       [0],\n",
              "       [0],\n",
              "       [0],\n",
              "       [1],\n",
              "       [1],\n",
              "       [0],\n",
              "       [0],\n",
              "       [0],\n",
              "       [1],\n",
              "       [0],\n",
              "       [0],\n",
              "       [0],\n",
              "       [1],\n",
              "       [1],\n",
              "       [1],\n",
              "       [1],\n",
              "       [1],\n",
              "       [1],\n",
              "       [1],\n",
              "       [1],\n",
              "       [1],\n",
              "       [1],\n",
              "       [1],\n",
              "       [1],\n",
              "       [0],\n",
              "       [0],\n",
              "       [1],\n",
              "       [1],\n",
              "       [1],\n",
              "       [1],\n",
              "       [1],\n",
              "       [1],\n",
              "       [1],\n",
              "       [1],\n",
              "       [0],\n",
              "       [0],\n",
              "       [1],\n",
              "       [1],\n",
              "       [0],\n",
              "       [1],\n",
              "       [0],\n",
              "       [0],\n",
              "       [0],\n",
              "       [0],\n",
              "       [0],\n",
              "       [0],\n",
              "       [0],\n",
              "       [1],\n",
              "       [0],\n",
              "       [0],\n",
              "       [0],\n",
              "       [0],\n",
              "       [0],\n",
              "       [0],\n",
              "       [0],\n",
              "       [0],\n",
              "       [0],\n",
              "       [0],\n",
              "       [0],\n",
              "       [0],\n",
              "       [0],\n",
              "       [0],\n",
              "       [0],\n",
              "       [0],\n",
              "       [0],\n",
              "       [0],\n",
              "       [1],\n",
              "       [1],\n",
              "       [0],\n",
              "       [0],\n",
              "       [0],\n",
              "       [0],\n",
              "       [1],\n",
              "       [1],\n",
              "       [1],\n",
              "       [0],\n",
              "       [1],\n",
              "       [1],\n",
              "       [0],\n",
              "       [1],\n",
              "       [0],\n",
              "       [0],\n",
              "       [0],\n",
              "       [1],\n",
              "       [1]])"
            ]
          },
          "execution_count": 23,
          "metadata": {},
          "output_type": "execute_result"
        }
      ],
      "source": [
        "pred = model.predict(final_test_seq)\n",
        "print(pred.shape)\n",
        "print(pred[0])\n",
        "pred_int=[]\n",
        "\n",
        "pred_int = pred.round().astype(\"int\")\n",
        "pred_int\n"
      ]
    },
    {
      "cell_type": "code",
      "execution_count": 24,
      "metadata": {
        "colab": {
          "base_uri": "https://localhost:8080/"
        },
        "id": "pKA1Wq6xbXeD",
        "outputId": "9df0d1b7-3a8f-4d4e-9902-e381b9ccfa1c"
      },
      "outputs": [
        {
          "name": "stdout",
          "output_type": "stream",
          "text": [
            "498\n",
            "355\n"
          ]
        }
      ],
      "source": [
        "# print(final_test_sequences)\n",
        "print(len(final_test_label))\n",
        "ccc=0\n",
        "for i in range(len(final_test_label)):\n",
        "    if(pred_int[i]==final_test_label[i]):\n",
        "#         print(pred_int[i])\n",
        "        ccc+=1\n",
        "print(ccc)"
      ]
    },
    {
      "cell_type": "code",
      "execution_count": 26,
      "metadata": {
        "colab": {
          "base_uri": "https://localhost:8080/"
        },
        "id": "ZjpDuJ28svan",
        "outputId": "72e866e6-7c80-4cbb-c919-fe6456a5dc75"
      },
      "outputs": [
        {
          "name": "stdout",
          "output_type": "stream",
          "text": [
            "(348,)\n"
          ]
        }
      ],
      "source": [
        "rev_polarity=[]\n",
        "j=0\n",
        "for j in range(len(revindex)):\n",
        "    sum_1=0\n",
        "    count_review=0\n",
        "    average=0\n",
        "    for i in range(len(ref_revarray)):\n",
        "        if(ref_revarray[i]==j):\n",
        "            count_review+=1\n",
        "            sum_1+=pol_arr[i]\n",
        "    average=sum_1/count_review\n",
        "    average=average.round().astype(\"int\")\n",
        "    rev_polarity.append(average)\n",
        "\n",
        "print(np.shape(rev_polarity))"
      ]
    },
    {
      "cell_type": "code",
      "execution_count": 27,
      "metadata": {
        "id": "az0PSNGTsvan"
      },
      "outputs": [
        {
          "name": "stdout",
          "output_type": "stream",
          "text": [
            "(43, 1)\n"
          ]
        },
        {
          "data": {
            "text/plain": [
              "43"
            ]
          },
          "execution_count": 27,
          "metadata": {},
          "output_type": "execute_result"
        }
      ],
      "source": [
        "found_polarity=[]\n",
        "# print(type(pred_int[0]))\n",
        "j=0\n",
        "# print(len(pred))\n",
        "for j in range(len(revindex)):\n",
        "    sum_1=0\n",
        "    count_review=0\n",
        "    average=0\n",
        "    for i in range(len(pred)):\n",
        "\n",
        "        if(ref_revarray[2010+i]==j):\n",
        "            count_review+=1\n",
        "            sum_1+=pred_int[i]\n",
        "    if(count_review==0):\n",
        "        continue\n",
        "    average=sum_1/count_review\n",
        "    average=average.round().astype(\"int\")\n",
        "    found_polarity.append(average)\n",
        "\n",
        "print(np.shape(found_polarity))\n",
        "len(found_polarity)"
      ]
    },
    {
      "cell_type": "code",
      "execution_count": 34,
      "metadata": {
        "colab": {
          "base_uri": "https://localhost:8080/"
        },
        "id": "chumC6uAsvan",
        "outputId": "9935b1ad-73db-4966-c700-7977b7bb35c2"
      },
      "outputs": [
        {
          "name": "stdout",
          "output_type": "stream",
          "text": [
            "67.44186046511628 %\n"
          ]
        }
      ],
      "source": [
        "count=0\n",
        "aa=(ref_revarray[2010])\n",
        "#print(int(0.75*len(found_polarity)))\n",
        "for i in range(int(0.85*len(found_polarity))):\n",
        "    if(found_polarity[i][0]==rev_polarity[aa+i]):\n",
        "        count+=1\n",
        "#print(count)\n",
        "print(count/len(found_polarity)*100,\"%\")"
      ]
    },
    {
      "cell_type": "code",
      "execution_count": 38,
      "metadata": {
        "colab": {
          "base_uri": "https://localhost:8080/"
        },
        "id": "dluqa6mbsvan",
        "outputId": "8b79b42d-9e3d-4796-cf24-e6dd56b0a3a2"
      },
      "outputs": [
        {
          "name": "stdout",
          "output_type": "stream",
          "text": [
            "(2508, 100)\n",
            "2508\n"
          ]
        }
      ],
      "source": [
        "entity_matrix=[]\n",
        "attribute_matrix=[]\n",
        "aspect_embedding=[]\n",
        "\n",
        "for i in range(len(new_aspect_array)):\n",
        "    entity=new_aspect_array[i][0]\n",
        "    entity_matrix=embedding_dict.get(entity)\n",
        "\n",
        "    attribute=new_aspect_array[i][1]\n",
        "    attribute_matrix=embedding_dict.get(attribute)\n",
        "\n",
        "    aspect_embedding.append((attribute_matrix+entity_matrix)/2)\n",
        "\n",
        "aspect_embedding = np.array(aspect_embedding)\n",
        "print(aspect_embedding.shape)\n",
        "print(len(aspect_embedding))"
      ]
    },
    {
      "cell_type": "code",
      "execution_count": 41,
      "metadata": {
        "colab": {
          "base_uri": "https://localhost:8080/"
        },
        "id": "9brAkzFqEj7B",
        "outputId": "ec4e297f-f634-4adb-afb6-b59c9cbdcc82"
      },
      "outputs": [
        {
          "name": "stdout",
          "output_type": "stream",
          "text": [
            "63/63 [==============================] - 1s 7ms/step\n",
            "(2010, 1)\n",
            "[0.27173406]\n"
          ]
        },
        {
          "data": {
            "text/plain": [
              "0.2717340588569641"
            ]
          },
          "execution_count": 41,
          "metadata": {},
          "output_type": "execute_result"
        }
      ],
      "source": [
        "akidea  = model.predict(final_train_seq)\n",
        "print(akidea.shape)\n",
        "print(akidea[0])\n",
        "akidea_int=[]\n",
        "\n",
        "akidea_int = akidea.round().astype(\"int\")\n",
        "\n",
        "x = float(akidea[0])\n",
        "x"
      ]
    },
    {
      "cell_type": "code",
      "execution_count": 42,
      "metadata": {
        "id": "GFTJgN9XEGRd"
      },
      "outputs": [
        {
          "name": "stdout",
          "output_type": "stream",
          "text": [
            "[0.09622500091791153, 0.4270249903202057, -0.11979099363088608, -0.19187000393867493, 0.3706650137901306, -0.28080499172210693, -0.23441749811172485, 0.059316497296094894, 0.205035001039505, -0.6713050007820129, -0.6455274820327759, -0.15425999462604523, -2.578050136566162, 0.1284799873828888, 0.3696550130844116, 0.26439449191093445, -0.10473499447107315, 0.09650349617004395, -0.19606000185012817, -0.21740999817848206, 0.3145400285720825, -0.38535499572753906, -0.2544499933719635, -0.7935900092124939, 0.07619500160217285, -0.8403499722480774, 0.30768999457359314, -0.12316499650478363, 0.1751599907875061, -0.07569500058889389, 0.12114900350570679, -0.37713998556137085, -0.8111000061035156, -0.6666949987411499, 0.3620949983596802, -0.612089991569519, 0.2086549997329712, 1.0045100450515747, 0.30751001834869385, -0.23152700066566467, 0.08579500019550323, 0.19830000400543213, 0.19345498085021973, 0.14892999827861786, 0.3829195201396942, 0.40740498900413513, 0.38093000650405884, 0.2786349952220917, -0.17384299635887146, -0.3940950036048889, 0.17214049398899078, 0.10699999332427979, -0.47162100672721863, 0.6672799587249756, -0.5635949969291687, 0.12406999617815018, 0.2974900007247925, -1.2361500263214111, 0.01688000187277794, 0.36071500182151794, 0.27210700511932373, -0.16687500476837158, 0.09102500230073929, 0.15384498238563538, 1.1312450170516968, -0.4897330105304718, 0.47656500339508057, -0.313836008310318, 0.10280000418424606, -0.15139999985694885, -0.17753399908542633, -0.39215999841690063, 0.3696950078010559, 0.017489999532699585, 0.36641499400138855, -0.3860200047492981, -0.2351350039243698, 0.4435049891471863, 0.22981499135494232, -0.04751500487327576, 1.1678749322891235, 0.29336050152778625, -0.3876332938671112, 0.2872300148010254, 0.21518000960350037, -0.4250450134277344, 0.17024150490760803, 0.1289074420928955, 0.1757349967956543, 0.3655650019645691, -0.1539825052022934, -0.15767499804496765, 0.18626001477241516, 0.14125899970531464, -0.3905099928379059, 0.40010949969291687, 0.3061000108718872, 0.1161549985408783, -0.27063000202178955, 0.4754049777984619, 0.2717340588569641]\n"
          ]
        },
        {
          "data": {
            "text/plain": [
              "(2010, 101)"
            ]
          },
          "execution_count": 42,
          "metadata": {},
          "output_type": "execute_result"
        }
      ],
      "source": [
        "from array import *\n",
        "step_train_sequences=[]\n",
        "step_train_labels=[]\n",
        "\n",
        "for i in range (len(akidea)):\n",
        "  temp=[]\n",
        "  for j in range (len(aspect_embedding[i])):\n",
        "\n",
        "    temp.append(float(aspect_embedding[i][j]))\n",
        "     \n",
        "  temp.append(float(akidea[i]))\n",
        "  step_train_sequences.append(temp)\n",
        "  step_train_labels.append((effect_array[i]))\n",
        "\n",
        "\n",
        "import random\n",
        "\n",
        "for i in range(len(step_train_labels)):\n",
        "  if(step_train_labels[i]==0.5):\n",
        "    zendaya= random.randint(0,9)\n",
        "    if(zendaya < 5):\n",
        "      step_train_labels[i] = 0.0\n",
        "    else:\n",
        "      step_train_labels[i] = 1.0\n",
        "print(step_train_sequences[0])\n",
        "np.shape(step_train_sequences)"
      ]
    },
    {
      "cell_type": "code",
      "execution_count": 44,
      "metadata": {
        "id": "ceTSLmwrJVos"
      },
      "outputs": [
        {
          "data": {
            "text/plain": [
              "(2010, 101)"
            ]
          },
          "execution_count": 44,
          "metadata": {},
          "output_type": "execute_result"
        }
      ],
      "source": [
        "from keras.models import Sequential\n",
        "from keras.layers import Embedding, LSTM, Dense, Dropout, Bidirectional, Input\n",
        "from keras.initializers import Constant\n",
        "from tensorflow.keras.optimizers import Adam\n",
        "import tensorflow as tf\n",
        "\n",
        "rev_model = Sequential()\n",
        "model.add(\n",
        "    Embedding(\n",
        "        num_words,\n",
        "        100,\n",
        "        embeddings_initializer=Constant(embedding_matrix),\n",
        "        input_length=101,\n",
        "        trainable=False,\n",
        "    )\n",
        ")\n",
        "rev_model.add(Bidirectional(LSTM(15,dropout=0.5)))\n",
        "rev_model.add(Dense(1, activation=\"sigmoid\"))\n",
        "rev_model.add(Dense(1, activation=\"softmax\"))\n",
        "\n",
        "\n",
        "optimizer = Adam(learning_rate=3e-4)\n",
        "\n",
        "rev_model.compile(loss=\"binary_crossentropy\", optimizer=optimizer, metrics=[\"accuracy\"])\n",
        "num_words\n",
        "np.shape(step_train_sequences)\n",
        "#step_train_sequences[0,12]"
      ]
    },
    {
      "cell_type": "code",
      "execution_count": 45,
      "metadata": {
        "colab": {
          "base_uri": "https://localhost:8080/",
          "height": 748
        },
        "id": "JgnQ6GX_Kv-5",
        "outputId": "a76feb03-3b22-45b8-c5ec-ee5f5e2d3b07"
      },
      "outputs": [
        {
          "name": "stdout",
          "output_type": "stream",
          "text": [
            "Epoch 1/20\n",
            "63/63 [==============================] - 12s 53ms/step - loss: 0.6432 - accuracy: 0.7398 - val_loss: 0.6386 - val_accuracy: 0.7398\n",
            "Epoch 2/20\n",
            "63/63 [==============================] - 3s 52ms/step - loss: 0.6282 - accuracy: 0.7398 - val_loss: 0.6138 - val_accuracy: 0.7398\n",
            "Epoch 3/20\n",
            "63/63 [==============================] - 3s 53ms/step - loss: 0.6077 - accuracy: 0.7398 - val_loss: 0.6032 - val_accuracy: 0.7398\n",
            "Epoch 4/20\n",
            "63/63 [==============================] - 4s 56ms/step - loss: 0.6011 - accuracy: 0.7398 - val_loss: 0.5991 - val_accuracy: 0.7398\n",
            "Epoch 5/20\n",
            "63/63 [==============================] - 4s 58ms/step - loss: 0.5977 - accuracy: 0.7398 - val_loss: 0.5961 - val_accuracy: 0.7398\n",
            "Epoch 6/20\n",
            "63/63 [==============================] - 4s 56ms/step - loss: 0.5948 - accuracy: 0.7398 - val_loss: 0.5934 - val_accuracy: 0.7398\n",
            "Epoch 7/20\n",
            "63/63 [==============================] - 3s 54ms/step - loss: 0.5923 - accuracy: 0.7398 - val_loss: 0.5910 - val_accuracy: 0.7398\n",
            "Epoch 8/20\n",
            "63/63 [==============================] - 3s 52ms/step - loss: 0.5900 - accuracy: 0.7398 - val_loss: 0.5889 - val_accuracy: 0.7398\n",
            "Epoch 9/20\n",
            "63/63 [==============================] - 3s 52ms/step - loss: 0.5880 - accuracy: 0.7398 - val_loss: 0.5871 - val_accuracy: 0.7398\n",
            "Epoch 10/20\n",
            "63/63 [==============================] - 3s 51ms/step - loss: 0.5862 - accuracy: 0.7398 - val_loss: 0.5854 - val_accuracy: 0.7398\n",
            "Epoch 11/20\n",
            "63/63 [==============================] - 4s 58ms/step - loss: 0.5846 - accuracy: 0.7398 - val_loss: 0.5837 - val_accuracy: 0.7398\n",
            "Epoch 12/20\n",
            "63/63 [==============================] - 3s 50ms/step - loss: 0.5832 - accuracy: 0.7398 - val_loss: 0.5826 - val_accuracy: 0.7398\n",
            "Epoch 13/20\n",
            "63/63 [==============================] - 3s 52ms/step - loss: 0.5820 - accuracy: 0.7398 - val_loss: 0.5814 - val_accuracy: 0.7398\n",
            "Epoch 14/20\n",
            "63/63 [==============================] - 4s 60ms/step - loss: 0.5809 - accuracy: 0.7398 - val_loss: 0.5803 - val_accuracy: 0.7398\n",
            "Epoch 15/20\n",
            "63/63 [==============================] - 3s 55ms/step - loss: 0.5799 - accuracy: 0.7398 - val_loss: 0.5795 - val_accuracy: 0.7398\n",
            "Epoch 16/20\n",
            "63/63 [==============================] - 3s 51ms/step - loss: 0.5791 - accuracy: 0.7398 - val_loss: 0.5786 - val_accuracy: 0.7398\n",
            "Epoch 17/20\n",
            "63/63 [==============================] - 3s 52ms/step - loss: 0.5783 - accuracy: 0.7398 - val_loss: 0.5780 - val_accuracy: 0.7398\n",
            "Epoch 18/20\n",
            "63/63 [==============================] - 3s 53ms/step - loss: 0.5777 - accuracy: 0.7398 - val_loss: 0.5773 - val_accuracy: 0.7398\n",
            "Epoch 19/20\n",
            "63/63 [==============================] - 3s 53ms/step - loss: 0.5771 - accuracy: 0.7398 - val_loss: 0.5768 - val_accuracy: 0.7398\n",
            "Epoch 20/20\n",
            "63/63 [==============================] - 3s 50ms/step - loss: 0.5766 - accuracy: 0.7398 - val_loss: 0.5763 - val_accuracy: 0.7398\n"
          ]
        }
      ],
      "source": [
        "step_train_sequences=np.asarray(step_train_sequences).astype(np.float32)\n",
        "step_train_labels=np.asarray(step_train_labels).astype(np.float32)\n",
        "\n",
        "size = 1600\n",
        "hi_train_seq = step_train_sequences[:size]\n",
        "hi_train_labels = step_train_labels[:size]\n",
        "hi_test_seq = step_train_sequences[size:]\n",
        "hi_test_labels =  step_train_labels[size:]\n",
        "\n",
        "history1 = rev_model.fit(\n",
        "    tf.expand_dims(step_train_sequences,axis=-1),\n",
        "    step_train_labels,\n",
        "    epochs=20,\n",
        "    validation_data=(tf.expand_dims(step_train_sequences,axis=-1),step_train_labels),\n",
        "    verbose=1,\n",
        ")"
      ]
    },
    {
      "cell_type": "code",
      "execution_count": 46,
      "metadata": {},
      "outputs": [
        {
          "name": "stdout",
          "output_type": "stream",
          "text": [
            "(1600, 101)\n",
            "[[ 0.096225    0.427025   -0.11979099 ... -0.27063     0.47540498\n",
            "   0.27173406]\n",
            " [ 0.32598     0.54677    -0.37091    ... -0.205675    0.01301998\n",
            "   0.25964198]\n",
            " [ 0.32598     0.54677    -0.37091    ... -0.205675    0.01301998\n",
            "   0.23195446]\n",
            " ...\n",
            " [-0.289089   -0.49940002  0.287495   ... -0.283944    0.255565\n",
            "   0.9840117 ]\n",
            " [-0.289089   -0.49940002  0.287495   ... -0.283944    0.255565\n",
            "   0.9490345 ]\n",
            " [-0.289089   -0.49940002  0.287495   ... -0.283944    0.255565\n",
            "   0.9776004 ]]\n"
          ]
        }
      ],
      "source": [
        "print(hi_train_seq.shape)\n",
        "# print(tf.expand_dims(step_train_sequences,axis=-1))\n",
        "print(step_train_sequences)"
      ]
    },
    {
      "cell_type": "code",
      "execution_count": 47,
      "metadata": {},
      "outputs": [
        {
          "name": "stdout",
          "output_type": "stream",
          "text": [
            "13/13 [==============================] - 1s 9ms/step\n",
            "(410, 1)\n",
            "[0.99999994]\n"
          ]
        }
      ],
      "source": [
        "pred = rev_model.predict(tf.expand_dims(hi_test_seq,axis=-1))\n",
        "print(pred.shape)\n",
        "print(pred[0])\n",
        "pred_int=[]\n",
        "\n",
        "pred_int = pred.round().astype(\"int\")"
      ]
    },
    {
      "cell_type": "code",
      "execution_count": 48,
      "metadata": {},
      "outputs": [
        {
          "name": "stdout",
          "output_type": "stream",
          "text": [
            "410\n",
            "309\n"
          ]
        },
        {
          "data": {
            "text/plain": [
              "array([[0.99999994],\n",
              "       [0.99999994],\n",
              "       [0.99999994],\n",
              "       [0.99999994],\n",
              "       [0.99999994],\n",
              "       [0.99999994],\n",
              "       [0.99999994],\n",
              "       [0.99999994],\n",
              "       [0.99999994],\n",
              "       [0.99999994],\n",
              "       [0.99999994],\n",
              "       [0.99999994],\n",
              "       [0.99999994],\n",
              "       [0.99999994],\n",
              "       [0.99999994],\n",
              "       [0.99999994],\n",
              "       [0.99999994],\n",
              "       [0.99999994],\n",
              "       [0.99999994],\n",
              "       [0.99999994],\n",
              "       [0.99999994],\n",
              "       [0.99999994],\n",
              "       [0.99999994],\n",
              "       [0.99999994],\n",
              "       [0.99999994],\n",
              "       [0.99999994],\n",
              "       [0.99999994],\n",
              "       [0.99999994],\n",
              "       [0.99999994],\n",
              "       [0.99999994],\n",
              "       [0.99999994],\n",
              "       [0.99999994],\n",
              "       [0.99999994],\n",
              "       [0.99999994],\n",
              "       [0.99999994],\n",
              "       [0.99999994],\n",
              "       [0.99999994],\n",
              "       [0.99999994],\n",
              "       [0.99999994],\n",
              "       [0.99999994],\n",
              "       [0.99999994],\n",
              "       [0.99999994],\n",
              "       [0.99999994],\n",
              "       [0.99999994],\n",
              "       [0.99999994],\n",
              "       [0.99999994],\n",
              "       [0.99999994],\n",
              "       [0.99999994],\n",
              "       [0.99999994],\n",
              "       [0.99999994],\n",
              "       [0.99999994],\n",
              "       [0.99999994],\n",
              "       [0.99999994],\n",
              "       [0.99999994],\n",
              "       [0.99999994],\n",
              "       [0.99999994],\n",
              "       [0.99999994],\n",
              "       [0.99999994],\n",
              "       [0.99999994],\n",
              "       [0.99999994],\n",
              "       [0.99999994],\n",
              "       [0.99999994],\n",
              "       [0.99999994],\n",
              "       [0.99999994],\n",
              "       [0.99999994],\n",
              "       [0.99999994],\n",
              "       [0.99999994],\n",
              "       [0.99999994],\n",
              "       [0.99999994],\n",
              "       [0.99999994],\n",
              "       [0.99999994],\n",
              "       [0.99999994],\n",
              "       [0.99999994],\n",
              "       [0.99999994],\n",
              "       [0.99999994],\n",
              "       [0.99999994],\n",
              "       [0.99999994],\n",
              "       [0.99999994],\n",
              "       [0.99999994],\n",
              "       [0.99999994],\n",
              "       [0.99999994],\n",
              "       [0.99999994],\n",
              "       [0.99999994],\n",
              "       [0.99999994],\n",
              "       [0.99999994],\n",
              "       [0.99999994],\n",
              "       [0.99999994],\n",
              "       [0.99999994],\n",
              "       [0.99999994],\n",
              "       [0.99999994],\n",
              "       [0.99999994],\n",
              "       [0.99999994],\n",
              "       [0.99999994],\n",
              "       [0.99999994],\n",
              "       [0.99999994],\n",
              "       [0.99999994],\n",
              "       [0.99999994],\n",
              "       [0.99999994],\n",
              "       [0.99999994],\n",
              "       [0.99999994],\n",
              "       [0.99999994],\n",
              "       [0.99999994],\n",
              "       [0.99999994],\n",
              "       [0.99999994],\n",
              "       [0.99999994],\n",
              "       [0.99999994],\n",
              "       [0.99999994],\n",
              "       [0.99999994],\n",
              "       [0.99999994],\n",
              "       [0.99999994],\n",
              "       [0.99999994],\n",
              "       [0.99999994],\n",
              "       [0.99999994],\n",
              "       [0.99999994],\n",
              "       [0.99999994],\n",
              "       [0.99999994],\n",
              "       [0.99999994],\n",
              "       [0.99999994],\n",
              "       [0.99999994],\n",
              "       [0.99999994],\n",
              "       [0.99999994],\n",
              "       [0.99999994],\n",
              "       [0.99999994],\n",
              "       [0.99999994],\n",
              "       [0.99999994],\n",
              "       [0.99999994],\n",
              "       [0.99999994],\n",
              "       [0.99999994],\n",
              "       [0.99999994],\n",
              "       [0.99999994],\n",
              "       [0.99999994],\n",
              "       [0.99999994],\n",
              "       [0.99999994],\n",
              "       [0.99999994],\n",
              "       [0.99999994],\n",
              "       [0.99999994],\n",
              "       [0.99999994],\n",
              "       [0.99999994],\n",
              "       [0.99999994],\n",
              "       [0.99999994],\n",
              "       [0.99999994],\n",
              "       [0.99999994],\n",
              "       [0.99999994],\n",
              "       [0.99999994],\n",
              "       [0.99999994],\n",
              "       [0.99999994],\n",
              "       [0.99999994],\n",
              "       [0.99999994],\n",
              "       [0.99999994],\n",
              "       [0.99999994],\n",
              "       [0.99999994],\n",
              "       [0.99999994],\n",
              "       [0.99999994],\n",
              "       [0.99999994],\n",
              "       [0.99999994],\n",
              "       [0.99999994],\n",
              "       [0.99999994],\n",
              "       [0.99999994],\n",
              "       [0.99999994],\n",
              "       [0.99999994],\n",
              "       [0.99999994],\n",
              "       [0.99999994],\n",
              "       [0.99999994],\n",
              "       [0.99999994],\n",
              "       [0.99999994],\n",
              "       [0.99999994],\n",
              "       [0.99999994],\n",
              "       [0.99999994],\n",
              "       [0.99999994],\n",
              "       [0.99999994],\n",
              "       [0.99999994],\n",
              "       [0.99999994],\n",
              "       [0.99999994],\n",
              "       [0.99999994],\n",
              "       [0.99999994],\n",
              "       [0.99999994],\n",
              "       [0.99999994],\n",
              "       [0.99999994],\n",
              "       [0.99999994],\n",
              "       [0.99999994],\n",
              "       [0.99999994],\n",
              "       [0.99999994],\n",
              "       [0.99999994],\n",
              "       [0.99999994],\n",
              "       [0.99999994],\n",
              "       [0.99999994],\n",
              "       [0.99999994],\n",
              "       [0.99999994],\n",
              "       [0.99999994],\n",
              "       [0.99999994],\n",
              "       [0.99999994],\n",
              "       [0.99999994],\n",
              "       [0.99999994],\n",
              "       [0.99999994],\n",
              "       [0.99999994],\n",
              "       [0.99999994],\n",
              "       [0.99999994],\n",
              "       [0.99999994],\n",
              "       [0.99999994],\n",
              "       [0.99999994],\n",
              "       [0.99999994],\n",
              "       [0.99999994],\n",
              "       [0.99999994],\n",
              "       [0.99999994],\n",
              "       [0.99999994],\n",
              "       [0.99999994],\n",
              "       [0.99999994],\n",
              "       [0.99999994],\n",
              "       [0.99999994],\n",
              "       [0.99999994],\n",
              "       [0.99999994],\n",
              "       [0.99999994],\n",
              "       [0.99999994],\n",
              "       [0.99999994],\n",
              "       [0.99999994],\n",
              "       [0.99999994],\n",
              "       [0.99999994],\n",
              "       [0.99999994],\n",
              "       [0.99999994],\n",
              "       [0.99999994],\n",
              "       [0.99999994],\n",
              "       [0.99999994],\n",
              "       [0.99999994],\n",
              "       [0.99999994],\n",
              "       [0.99999994],\n",
              "       [0.99999994],\n",
              "       [0.99999994],\n",
              "       [0.99999994],\n",
              "       [0.99999994],\n",
              "       [0.99999994],\n",
              "       [0.99999994],\n",
              "       [0.99999994],\n",
              "       [0.99999994],\n",
              "       [0.99999994],\n",
              "       [0.99999994],\n",
              "       [0.99999994],\n",
              "       [0.99999994],\n",
              "       [0.99999994],\n",
              "       [0.99999994],\n",
              "       [0.99999994],\n",
              "       [0.99999994],\n",
              "       [0.99999994],\n",
              "       [0.99999994],\n",
              "       [0.99999994],\n",
              "       [0.99999994],\n",
              "       [0.99999994],\n",
              "       [0.99999994],\n",
              "       [0.99999994],\n",
              "       [0.99999994],\n",
              "       [0.99999994],\n",
              "       [0.99999994],\n",
              "       [0.99999994],\n",
              "       [0.99999994],\n",
              "       [0.99999994],\n",
              "       [0.99999994],\n",
              "       [0.99999994],\n",
              "       [0.99999994],\n",
              "       [0.99999994],\n",
              "       [0.99999994],\n",
              "       [0.99999994],\n",
              "       [0.99999994],\n",
              "       [0.99999994],\n",
              "       [0.99999994],\n",
              "       [0.99999994],\n",
              "       [0.99999994],\n",
              "       [0.99999994],\n",
              "       [0.99999994],\n",
              "       [0.99999994],\n",
              "       [0.99999994],\n",
              "       [0.99999994],\n",
              "       [0.99999994],\n",
              "       [0.99999994],\n",
              "       [0.99999994],\n",
              "       [0.99999994],\n",
              "       [0.99999994],\n",
              "       [0.99999994],\n",
              "       [0.99999994],\n",
              "       [0.99999994],\n",
              "       [0.99999994],\n",
              "       [0.99999994],\n",
              "       [0.99999994],\n",
              "       [0.99999994],\n",
              "       [0.99999994],\n",
              "       [0.99999994],\n",
              "       [0.99999994],\n",
              "       [0.99999994],\n",
              "       [0.99999994],\n",
              "       [0.99999994],\n",
              "       [0.99999994],\n",
              "       [0.99999994],\n",
              "       [0.99999994],\n",
              "       [0.99999994],\n",
              "       [0.99999994],\n",
              "       [0.99999994],\n",
              "       [0.99999994],\n",
              "       [0.99999994],\n",
              "       [0.99999994],\n",
              "       [0.99999994],\n",
              "       [0.99999994],\n",
              "       [0.99999994],\n",
              "       [0.99999994],\n",
              "       [0.99999994],\n",
              "       [0.99999994],\n",
              "       [0.99999994],\n",
              "       [0.99999994],\n",
              "       [0.99999994],\n",
              "       [0.99999994],\n",
              "       [0.99999994],\n",
              "       [0.99999994],\n",
              "       [0.99999994],\n",
              "       [0.99999994],\n",
              "       [0.99999994],\n",
              "       [0.99999994],\n",
              "       [0.99999994],\n",
              "       [0.99999994],\n",
              "       [0.99999994],\n",
              "       [0.99999994],\n",
              "       [0.99999994],\n",
              "       [0.99999994],\n",
              "       [0.99999994],\n",
              "       [0.99999994],\n",
              "       [0.99999994],\n",
              "       [0.99999994],\n",
              "       [0.99999994],\n",
              "       [0.99999994],\n",
              "       [0.99999994],\n",
              "       [0.99999994],\n",
              "       [0.99999994],\n",
              "       [0.99999994],\n",
              "       [0.99999994],\n",
              "       [0.99999994],\n",
              "       [0.99999994],\n",
              "       [0.99999994],\n",
              "       [0.99999994],\n",
              "       [0.99999994],\n",
              "       [0.99999994],\n",
              "       [0.99999994],\n",
              "       [0.99999994],\n",
              "       [0.99999994],\n",
              "       [0.99999994],\n",
              "       [0.99999994],\n",
              "       [0.99999994],\n",
              "       [0.99999994],\n",
              "       [0.99999994],\n",
              "       [0.99999994],\n",
              "       [0.99999994],\n",
              "       [0.99999994],\n",
              "       [0.99999994],\n",
              "       [0.99999994],\n",
              "       [0.99999994],\n",
              "       [0.99999994],\n",
              "       [0.99999994],\n",
              "       [0.99999994],\n",
              "       [0.99999994],\n",
              "       [0.99999994],\n",
              "       [0.99999994],\n",
              "       [0.99999994],\n",
              "       [0.99999994],\n",
              "       [0.99999994],\n",
              "       [0.99999994],\n",
              "       [0.99999994],\n",
              "       [0.99999994],\n",
              "       [0.99999994],\n",
              "       [0.99999994],\n",
              "       [0.99999994],\n",
              "       [0.99999994],\n",
              "       [0.99999994],\n",
              "       [0.99999994],\n",
              "       [0.99999994],\n",
              "       [0.99999994],\n",
              "       [0.99999994],\n",
              "       [0.99999994],\n",
              "       [0.99999994],\n",
              "       [0.99999994],\n",
              "       [0.99999994],\n",
              "       [0.99999994],\n",
              "       [0.99999994],\n",
              "       [0.99999994],\n",
              "       [0.99999994],\n",
              "       [0.99999994],\n",
              "       [0.99999994],\n",
              "       [0.99999994],\n",
              "       [0.99999994],\n",
              "       [0.99999994],\n",
              "       [0.99999994],\n",
              "       [0.99999994],\n",
              "       [0.99999994],\n",
              "       [0.99999994],\n",
              "       [0.99999994],\n",
              "       [0.99999994],\n",
              "       [0.99999994],\n",
              "       [0.99999994],\n",
              "       [0.99999994],\n",
              "       [0.99999994],\n",
              "       [0.99999994],\n",
              "       [0.99999994],\n",
              "       [0.99999994],\n",
              "       [0.99999994],\n",
              "       [0.99999994],\n",
              "       [0.99999994],\n",
              "       [0.99999994],\n",
              "       [0.99999994],\n",
              "       [0.99999994],\n",
              "       [0.99999994],\n",
              "       [0.99999994],\n",
              "       [0.99999994],\n",
              "       [0.99999994],\n",
              "       [0.99999994],\n",
              "       [1.        ],\n",
              "       [1.        ]], dtype=float32)"
            ]
          },
          "execution_count": 48,
          "metadata": {},
          "output_type": "execute_result"
        }
      ],
      "source": [
        "print(len(hi_test_labels))\n",
        "ccc=0\n",
        "for i in range(len(hi_test_labels)):\n",
        "    if(pred_int[i]==hi_test_labels[i]):\n",
        "#         print(pred_int[i])\n",
        "        ccc+=1\n",
        "print(ccc)\n",
        "pred"
      ]
    },
    {
      "cell_type": "code",
      "execution_count": 51,
      "metadata": {},
      "outputs": [
        {
          "name": "stdout",
          "output_type": "stream",
          "text": [
            "(63, 1)\n"
          ]
        },
        {
          "data": {
            "text/plain": [
              "63"
            ]
          },
          "execution_count": 51,
          "metadata": {},
          "output_type": "execute_result"
        }
      ],
      "source": [
        "found_polarity=[]\n",
        "# print(type(pred_int[0]))\n",
        "j=0\n",
        "# print(len(pred))\n",
        "for j in range(len(revindex)):\n",
        "    sum_1=0\n",
        "    count_review=0\n",
        "    average=0\n",
        "    for i in range(len(pred)):\n",
        "\n",
        "        if(ref_revarray[size+i]==j):\n",
        "            count_review+=1\n",
        "            sum_1+=pred_int[i]\n",
        "    if(count_review==0):\n",
        "        continue\n",
        "    average=sum_1/count_review\n",
        "    average=average.round().astype(\"int\")\n",
        "    found_polarity.append(average)\n",
        "\n",
        "print(np.shape(found_polarity))\n",
        "len(found_polarity)"
      ]
    },
    {
      "cell_type": "code",
      "execution_count": 55,
      "metadata": {},
      "outputs": [
        {
          "name": "stdout",
          "output_type": "stream",
          "text": [
            "51\n",
            "80.95238095238095 %\n"
          ]
        }
      ],
      "source": [
        "count=0\n",
        "aa=(ref_revarray[size])\n",
        "#print(len(found_polarity))\n",
        "for i in range(len(found_polarity)):\n",
        "    if(found_polarity[i][0]==rev_polarity[aa+i]):\n",
        "        count+=1\n",
        "print(count)\n",
        "print(count/len(found_polarity)*100,\"%\")"
      ]
    }
  ],
  "metadata": {
    "colab": {
      "name": "ak-smaiProject_1.ipynb",
      "provenance": []
    },
    "kernelspec": {
      "display_name": "Python 3.11.0 64-bit",
      "language": "python",
      "name": "python3"
    },
    "language_info": {
      "codemirror_mode": {
        "name": "ipython",
        "version": 3
      },
      "file_extension": ".py",
      "mimetype": "text/x-python",
      "name": "python",
      "nbconvert_exporter": "python",
      "pygments_lexer": "ipython3",
      "version": "3.11.0"
    },
    "vscode": {
      "interpreter": {
        "hash": "d417a21d97a2e6b8832d21dc44f5cbe4be6e18325f874a8bb8484565b928cd54"
      }
    }
  },
  "nbformat": 4,
  "nbformat_minor": 0
}
